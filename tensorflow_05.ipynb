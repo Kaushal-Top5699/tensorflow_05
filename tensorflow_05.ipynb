{
  "nbformat": 4,
  "nbformat_minor": 0,
  "metadata": {
    "colab": {
      "provenance": [],
      "authorship_tag": "ABX9TyMxQuL3Y8L7PeyoO4QcBu05",
      "include_colab_link": true
    },
    "kernelspec": {
      "name": "python3",
      "display_name": "Python 3"
    },
    "language_info": {
      "name": "python"
    }
  },
  "cells": [
    {
      "cell_type": "markdown",
      "metadata": {
        "id": "view-in-github",
        "colab_type": "text"
      },
      "source": [
        "<a href=\"https://colab.research.google.com/github/Kaushal-Top5699/tensorflow_05/blob/main/tensorflow_05.ipynb\" target=\"_parent\"><img src=\"https://colab.research.google.com/assets/colab-badge.svg\" alt=\"Open In Colab\"/></a>"
      ]
    },
    {
      "cell_type": "code",
      "execution_count": 1,
      "metadata": {
        "id": "egR6q7WiO9S_"
      },
      "outputs": [],
      "source": [
        "import tensorflow as tf"
      ]
    },
    {
      "cell_type": "code",
      "source": [
        "# Changing dataType of tensors\n",
        "A = tf.constant([[1, 2, 3],\n",
        "                [4, 5, 6]])\n",
        "A"
      ],
      "metadata": {
        "colab": {
          "base_uri": "https://localhost:8080/"
        },
        "id": "WbXmU5laPDYd",
        "outputId": "d6f96765-4322-4679-bee1-001e3c1b0d30"
      },
      "execution_count": 2,
      "outputs": [
        {
          "output_type": "execute_result",
          "data": {
            "text/plain": [
              "<tf.Tensor: shape=(2, 3), dtype=int32, numpy=\n",
              "array([[1, 2, 3],\n",
              "       [4, 5, 6]], dtype=int32)>"
            ]
          },
          "metadata": {},
          "execution_count": 2
        }
      ]
    },
    {
      "cell_type": "code",
      "source": [
        "B = tf.constant([[1.1, 2.2, 3.3],\n",
        "                 [4.4, 5.5, 6.6]])\n",
        "B"
      ],
      "metadata": {
        "colab": {
          "base_uri": "https://localhost:8080/"
        },
        "id": "Fr-ouY861VoG",
        "outputId": "90e9d867-7cae-4131-d21c-8844e1e63a5b"
      },
      "execution_count": 3,
      "outputs": [
        {
          "output_type": "execute_result",
          "data": {
            "text/plain": [
              "<tf.Tensor: shape=(2, 3), dtype=float32, numpy=\n",
              "array([[1.1, 2.2, 3.3],\n",
              "       [4.4, 5.5, 6.6]], dtype=float32)>"
            ]
          },
          "metadata": {},
          "execution_count": 3
        }
      ]
    },
    {
      "cell_type": "code",
      "source": [
        "D = tf.cast(B, dtype=tf.float16)\n",
        "D"
      ],
      "metadata": {
        "colab": {
          "base_uri": "https://localhost:8080/"
        },
        "id": "0xqr3ZPS2R52",
        "outputId": "236ed667-fec0-4c14-b22c-95e7f15baae3"
      },
      "execution_count": 4,
      "outputs": [
        {
          "output_type": "execute_result",
          "data": {
            "text/plain": [
              "<tf.Tensor: shape=(2, 3), dtype=float16, numpy=\n",
              "array([[1.1, 2.2, 3.3],\n",
              "       [4.4, 5.5, 6.6]], dtype=float16)>"
            ]
          },
          "metadata": {},
          "execution_count": 4
        }
      ]
    },
    {
      "cell_type": "code",
      "source": [
        "# Change from int32 to float32\n",
        "E = tf.cast(A, dtype=tf.float32)\n",
        "E"
      ],
      "metadata": {
        "colab": {
          "base_uri": "https://localhost:8080/"
        },
        "id": "x8cTkoxn2Y6Z",
        "outputId": "ae905b6f-2a60-4193-e310-e5d328fbd4b4"
      },
      "execution_count": 5,
      "outputs": [
        {
          "output_type": "execute_result",
          "data": {
            "text/plain": [
              "<tf.Tensor: shape=(2, 3), dtype=float32, numpy=\n",
              "array([[1., 2., 3.],\n",
              "       [4., 5., 6.]], dtype=float32)>"
            ]
          },
          "metadata": {},
          "execution_count": 5
        }
      ]
    },
    {
      "cell_type": "code",
      "source": [
        "# Change from int32 to float16\n",
        "F = tf.cast(A, dtype=tf.float16)\n",
        "F"
      ],
      "metadata": {
        "colab": {
          "base_uri": "https://localhost:8080/"
        },
        "id": "R1yGYq7P222T",
        "outputId": "1a9527b0-6d1f-41b6-fb77-a1ea92544036"
      },
      "execution_count": 6,
      "outputs": [
        {
          "output_type": "execute_result",
          "data": {
            "text/plain": [
              "<tf.Tensor: shape=(2, 3), dtype=float16, numpy=\n",
              "array([[1., 2., 3.],\n",
              "       [4., 5., 6.]], dtype=float16)>"
            ]
          },
          "metadata": {},
          "execution_count": 6
        }
      ]
    },
    {
      "cell_type": "markdown",
      "source": [
        "# **Aggregating Tensor**"
      ],
      "metadata": {
        "id": "dj0tftmA3Q8f"
      }
    },
    {
      "cell_type": "code",
      "source": [
        "tensor_1 = tf.constant([-1, -2])\n",
        "tensor_1"
      ],
      "metadata": {
        "colab": {
          "base_uri": "https://localhost:8080/"
        },
        "id": "ljZOzcQz3V7k",
        "outputId": "74dc52ec-4947-49c4-e1d1-6bfa559d30b2"
      },
      "execution_count": 7,
      "outputs": [
        {
          "output_type": "execute_result",
          "data": {
            "text/plain": [
              "<tf.Tensor: shape=(2,), dtype=int32, numpy=array([-1, -2], dtype=int32)>"
            ]
          },
          "metadata": {},
          "execution_count": 7
        }
      ]
    },
    {
      "cell_type": "code",
      "source": [
        "# Getting absolute value\n",
        "tf.abs(tensor_1)\n",
        "# Takes the negatives and turns them into positive"
      ],
      "metadata": {
        "colab": {
          "base_uri": "https://localhost:8080/"
        },
        "id": "FbIxV1nM4WMi",
        "outputId": "7a0dfedb-c664-46cf-9abb-3b81d8b7f42c"
      },
      "execution_count": 8,
      "outputs": [
        {
          "output_type": "execute_result",
          "data": {
            "text/plain": [
              "<tf.Tensor: shape=(2,), dtype=int32, numpy=array([1, 2], dtype=int32)>"
            ]
          },
          "metadata": {},
          "execution_count": 8
        }
      ]
    },
    {
      "cell_type": "markdown",
      "source": [
        "### **Forms of aggregation**\n",
        "\n",
        "1) Minima\n",
        "\n",
        "2) Maxima\n",
        "\n",
        "3) Mean\n",
        "\n",
        "4) Sum"
      ],
      "metadata": {
        "id": "JJ2Rv7uA4whP"
      }
    },
    {
      "cell_type": "code",
      "source": [
        "# Getting maximum/minimum tensor\n",
        "tensor_2 = tf.constant([[11, 2, 3],\n",
        "                        [45, 50, 6]])\n",
        "\n",
        "tensor_3 = tf.constant([[7, 8, 9],\n",
        "                        [10, 111, 12]])\n",
        "\n",
        "tensor_2, tensor_3"
      ],
      "metadata": {
        "colab": {
          "base_uri": "https://localhost:8080/"
        },
        "id": "VfS3az804d08",
        "outputId": "ca8e6b1c-f4b3-4e79-e5c8-19c04a737bd5"
      },
      "execution_count": 9,
      "outputs": [
        {
          "output_type": "execute_result",
          "data": {
            "text/plain": [
              "(<tf.Tensor: shape=(2, 3), dtype=int32, numpy=\n",
              " array([[11,  2,  3],\n",
              "        [45, 50,  6]], dtype=int32)>,\n",
              " <tf.Tensor: shape=(2, 3), dtype=int32, numpy=\n",
              " array([[  7,   8,   9],\n",
              "        [ 10, 111,  12]], dtype=int32)>)"
            ]
          },
          "metadata": {},
          "execution_count": 9
        }
      ]
    },
    {
      "cell_type": "code",
      "source": [
        "# tf.maximum()\n",
        "tf.maximum(tensor_2, tensor_3)"
      ],
      "metadata": {
        "colab": {
          "base_uri": "https://localhost:8080/"
        },
        "id": "EtArKfKJ5Kgk",
        "outputId": "9c321377-3e4d-4bb5-91a9-57edcf37ca69"
      },
      "execution_count": 10,
      "outputs": [
        {
          "output_type": "execute_result",
          "data": {
            "text/plain": [
              "<tf.Tensor: shape=(2, 3), dtype=int32, numpy=\n",
              "array([[ 11,   8,   9],\n",
              "       [ 45, 111,  12]], dtype=int32)>"
            ]
          },
          "metadata": {},
          "execution_count": 10
        }
      ]
    },
    {
      "cell_type": "code",
      "source": [
        "# Getting minimum tensor\n",
        "tf.minimum(tensor_2, tensor_3)"
      ],
      "metadata": {
        "colab": {
          "base_uri": "https://localhost:8080/"
        },
        "id": "ar_t_gxS5kej",
        "outputId": "c9d62834-616e-4a6e-9628-bcb0f207459c"
      },
      "execution_count": 11,
      "outputs": [
        {
          "output_type": "execute_result",
          "data": {
            "text/plain": [
              "<tf.Tensor: shape=(2, 3), dtype=int32, numpy=\n",
              "array([[ 7,  2,  3],\n",
              "       [10, 50,  6]], dtype=int32)>"
            ]
          },
          "metadata": {},
          "execution_count": 11
        }
      ]
    },
    {
      "cell_type": "code",
      "source": [
        "# Getting mean of tensor\n",
        "tf.reduce_mean(tensor_3)"
      ],
      "metadata": {
        "colab": {
          "base_uri": "https://localhost:8080/"
        },
        "id": "4yS8KUnK51tP",
        "outputId": "cce1b924-90cd-498c-aa75-de94bc04d03e"
      },
      "execution_count": 12,
      "outputs": [
        {
          "output_type": "execute_result",
          "data": {
            "text/plain": [
              "<tf.Tensor: shape=(), dtype=int32, numpy=26>"
            ]
          },
          "metadata": {},
          "execution_count": 12
        }
      ]
    },
    {
      "cell_type": "code",
      "source": [
        "# Getting sum of tensor\n",
        "tf.reduce_sum(tensor_3)"
      ],
      "metadata": {
        "colab": {
          "base_uri": "https://localhost:8080/"
        },
        "id": "4jMRlDRN6br_",
        "outputId": "e07d888d-5085-414b-de90-2251d06b911b"
      },
      "execution_count": 13,
      "outputs": [
        {
          "output_type": "execute_result",
          "data": {
            "text/plain": [
              "<tf.Tensor: shape=(), dtype=int32, numpy=157>"
            ]
          },
          "metadata": {},
          "execution_count": 13
        }
      ]
    },
    {
      "cell_type": "code",
      "source": [
        "import numpy as np\n",
        "tensor_4 = tf.constant(np.random.randint(0, 100, size = 50))\n",
        "tensor_4"
      ],
      "metadata": {
        "colab": {
          "base_uri": "https://localhost:8080/"
        },
        "id": "kJWV0xqf6p5K",
        "outputId": "6d9abcf7-dadd-407c-cd3f-8954cb009795"
      },
      "execution_count": 32,
      "outputs": [
        {
          "output_type": "execute_result",
          "data": {
            "text/plain": [
              "<tf.Tensor: shape=(50,), dtype=int64, numpy=\n",
              "array([95, 30, 28, 79, 40,  5, 77, 15, 73, 80, 18, 52, 46, 14, 36, 88, 99,\n",
              "       86, 45, 23, 86, 27, 78, 66, 87, 95, 25, 99, 50, 83, 71, 14, 75, 93,\n",
              "       23, 46, 14, 48, 83, 15, 16, 18, 93, 39, 69,  9, 66, 94, 56, 37])>"
            ]
          },
          "metadata": {},
          "execution_count": 32
        }
      ]
    },
    {
      "cell_type": "code",
      "source": [
        "tf.reduce_sum(tensor_4), tf.reduce_mean(tensor_4), tf.size(tensor_4), tf.shape(tensor_4), tensor_4.ndim"
      ],
      "metadata": {
        "colab": {
          "base_uri": "https://localhost:8080/"
        },
        "id": "ad_pZCqx67t5",
        "outputId": "3fd64bd0-b545-4bec-fb2a-9ecad3b02164"
      },
      "execution_count": 33,
      "outputs": [
        {
          "output_type": "execute_result",
          "data": {
            "text/plain": [
              "(<tf.Tensor: shape=(), dtype=int64, numpy=2704>,\n",
              " <tf.Tensor: shape=(), dtype=int64, numpy=54>,\n",
              " <tf.Tensor: shape=(), dtype=int32, numpy=50>,\n",
              " <tf.Tensor: shape=(1,), dtype=int32, numpy=array([50], dtype=int32)>,\n",
              " 1)"
            ]
          },
          "metadata": {},
          "execution_count": 33
        }
      ]
    },
    {
      "cell_type": "code",
      "source": [
        "# Finding minimum value in a tensor\n",
        "tf.reduce_min(tensor_4)"
      ],
      "metadata": {
        "colab": {
          "base_uri": "https://localhost:8080/"
        },
        "id": "YRMuT8OV7CIf",
        "outputId": "2d4fa720-87f5-435d-af89-0be358a80086"
      },
      "execution_count": 34,
      "outputs": [
        {
          "output_type": "execute_result",
          "data": {
            "text/plain": [
              "<tf.Tensor: shape=(), dtype=int64, numpy=5>"
            ]
          },
          "metadata": {},
          "execution_count": 34
        }
      ]
    },
    {
      "cell_type": "code",
      "source": [
        "# Finding a maximum value in a tensor\n",
        "tf.reduce_max(tensor_4)"
      ],
      "metadata": {
        "colab": {
          "base_uri": "https://localhost:8080/"
        },
        "id": "Ps5N2CPa7cMd",
        "outputId": "2f1deeae-8e42-4b31-d37b-8aeb8e544fd4"
      },
      "execution_count": 35,
      "outputs": [
        {
          "output_type": "execute_result",
          "data": {
            "text/plain": [
              "<tf.Tensor: shape=(), dtype=int64, numpy=99>"
            ]
          },
          "metadata": {},
          "execution_count": 35
        }
      ]
    },
    {
      "cell_type": "markdown",
      "source": [
        "**We need to cast it to float either float16 or float32 in order to get the standard deviation!!**"
      ],
      "metadata": {
        "id": "GcKiHHqjqbdo"
      }
    },
    {
      "cell_type": "code",
      "source": [
        "tensor_5 = tf.cast(tensor_4, dtype=tf.float16)\n",
        "tensor_5"
      ],
      "metadata": {
        "colab": {
          "base_uri": "https://localhost:8080/"
        },
        "id": "QtjduPwp8-LW",
        "outputId": "4fad5727-9765-44e9-9ff5-3e24df2b79d6"
      },
      "execution_count": 44,
      "outputs": [
        {
          "output_type": "execute_result",
          "data": {
            "text/plain": [
              "<tf.Tensor: shape=(50,), dtype=float16, numpy=\n",
              "array([95., 30., 28., 79., 40.,  5., 77., 15., 73., 80., 18., 52., 46.,\n",
              "       14., 36., 88., 99., 86., 45., 23., 86., 27., 78., 66., 87., 95.,\n",
              "       25., 99., 50., 83., 71., 14., 75., 93., 23., 46., 14., 48., 83.,\n",
              "       15., 16., 18., 93., 39., 69.,  9., 66., 94., 56., 37.],\n",
              "      dtype=float16)>"
            ]
          },
          "metadata": {},
          "execution_count": 44
        }
      ]
    },
    {
      "cell_type": "markdown",
      "source": [
        "### **To get variance and stand deviation we need to import tensorflow_probability lib.**"
      ],
      "metadata": {
        "id": "jULn1_UWo5mn"
      }
    },
    {
      "cell_type": "code",
      "source": [
        "import tensorflow_probability as tfp"
      ],
      "metadata": {
        "id": "zYvy2NfNkOeI"
      },
      "execution_count": 38,
      "outputs": []
    },
    {
      "cell_type": "code",
      "source": [
        "# Getting the variance\n",
        "tfp.stats.variance(tensor_5)"
      ],
      "metadata": {
        "colab": {
          "base_uri": "https://localhost:8080/"
        },
        "id": "GsahsBId7mqg",
        "outputId": "fea3f1a3-5bfe-4651-b803-0a05cd5bdad4"
      },
      "execution_count": 39,
      "outputs": [
        {
          "output_type": "execute_result",
          "data": {
            "text/plain": [
              "<tf.Tensor: shape=(), dtype=float16, numpy=887.5>"
            ]
          },
          "metadata": {},
          "execution_count": 39
        }
      ]
    },
    {
      "cell_type": "code",
      "source": [
        "# We can also find variance in another way with using tensorflow_probability lib\n",
        "tf.math.reduce_variance(tensor_5)"
      ],
      "metadata": {
        "colab": {
          "base_uri": "https://localhost:8080/"
        },
        "id": "CwavEmPhsumq",
        "outputId": "75ebd5b3-8795-4034-ac04-ec7bcfa35f03"
      },
      "execution_count": 52,
      "outputs": [
        {
          "output_type": "execute_result",
          "data": {
            "text/plain": [
              "<tf.Tensor: shape=(), dtype=float16, numpy=887.5>"
            ]
          },
          "metadata": {},
          "execution_count": 52
        }
      ]
    },
    {
      "cell_type": "markdown",
      "source": [
        "**🫵🏼 Remember to get Standard Deviation of a tensor it must be real or complex collection of numbers. Therefore, convert it to float either flot16 or float32.**"
      ],
      "metadata": {
        "id": "l2eYx7jqp1D6"
      }
    },
    {
      "cell_type": "code",
      "source": [
        "# Getting the standard deviation\n",
        "tf.math.reduce_std(tensor_5)"
      ],
      "metadata": {
        "colab": {
          "base_uri": "https://localhost:8080/"
        },
        "id": "4Skzt-Df8IdI",
        "outputId": "738fe6a3-86f0-4c2b-dcec-59b67f088070"
      },
      "execution_count": 40,
      "outputs": [
        {
          "output_type": "execute_result",
          "data": {
            "text/plain": [
              "<tf.Tensor: shape=(), dtype=float16, numpy=29.8>"
            ]
          },
          "metadata": {},
          "execution_count": 40
        }
      ]
    },
    {
      "cell_type": "markdown",
      "source": [
        "## **Positional Maximum and Minimum**"
      ],
      "metadata": {
        "id": "IRP9jkyHq6fy"
      }
    },
    {
      "cell_type": "code",
      "source": [
        "# Returns the index of maximum value within our tensor\n",
        "tf.math.argmax(tensor_5)"
      ],
      "metadata": {
        "colab": {
          "base_uri": "https://localhost:8080/"
        },
        "id": "x6Cei7zg8uEI",
        "outputId": "1199ea09-524a-4cc7-99e1-c333e4353641"
      },
      "execution_count": 43,
      "outputs": [
        {
          "output_type": "execute_result",
          "data": {
            "text/plain": [
              "<tf.Tensor: shape=(), dtype=int64, numpy=16>"
            ]
          },
          "metadata": {},
          "execution_count": 43
        }
      ]
    },
    {
      "cell_type": "code",
      "source": [
        "# We can get that max value using the returned index\n",
        "tensor_5[tf.math.argmax(tensor_5)]"
      ],
      "metadata": {
        "colab": {
          "base_uri": "https://localhost:8080/"
        },
        "id": "JzH-89szrQr8",
        "outputId": "e15494f1-0853-48d3-b9e0-83a457739aa7"
      },
      "execution_count": 46,
      "outputs": [
        {
          "output_type": "execute_result",
          "data": {
            "text/plain": [
              "<tf.Tensor: shape=(), dtype=float16, numpy=99.0>"
            ]
          },
          "metadata": {},
          "execution_count": 46
        }
      ]
    },
    {
      "cell_type": "code",
      "source": [
        "# Getting the minimum value index\n",
        "tf.math.argmin(tensor_5)"
      ],
      "metadata": {
        "colab": {
          "base_uri": "https://localhost:8080/"
        },
        "id": "ihe72nBcryCU",
        "outputId": "6cd64509-fe16-4bd4-c297-da7145a3e32b"
      },
      "execution_count": 47,
      "outputs": [
        {
          "output_type": "execute_result",
          "data": {
            "text/plain": [
              "<tf.Tensor: shape=(), dtype=int64, numpy=5>"
            ]
          },
          "metadata": {},
          "execution_count": 47
        }
      ]
    },
    {
      "cell_type": "code",
      "source": [
        "# Fetching minimum value from tensor_5 using returned min index\n",
        "tensor_5[tf.math.argmin(tensor_5)]"
      ],
      "metadata": {
        "colab": {
          "base_uri": "https://localhost:8080/"
        },
        "id": "3KpFtt1CsAU0",
        "outputId": "6f9b92d1-c256-4910-b515-1a6162bf771a"
      },
      "execution_count": 50,
      "outputs": [
        {
          "output_type": "execute_result",
          "data": {
            "text/plain": [
              "<tf.Tensor: shape=(), dtype=float16, numpy=5.0>"
            ]
          },
          "metadata": {},
          "execution_count": 50
        }
      ]
    },
    {
      "cell_type": "code",
      "source": [
        "# Verify by observing below tensor\n",
        "tensor_5"
      ],
      "metadata": {
        "colab": {
          "base_uri": "https://localhost:8080/"
        },
        "id": "0M7OXOhfsN9c",
        "outputId": "1374a94a-644c-43be-e244-377d5a8663de"
      },
      "execution_count": 51,
      "outputs": [
        {
          "output_type": "execute_result",
          "data": {
            "text/plain": [
              "<tf.Tensor: shape=(50,), dtype=float16, numpy=\n",
              "array([95., 30., 28., 79., 40.,  5., 77., 15., 73., 80., 18., 52., 46.,\n",
              "       14., 36., 88., 99., 86., 45., 23., 86., 27., 78., 66., 87., 95.,\n",
              "       25., 99., 50., 83., 71., 14., 75., 93., 23., 46., 14., 48., 83.,\n",
              "       15., 16., 18., 93., 39., 69.,  9., 66., 94., 56., 37.],\n",
              "      dtype=float16)>"
            ]
          },
          "metadata": {},
          "execution_count": 51
        }
      ]
    },
    {
      "cell_type": "code",
      "source": [
        "# Another way of creating a random tensor without using numpy.\n",
        "tensor_6 = tf.random.uniform(shape = [50])\n",
        "tensor_6"
      ],
      "metadata": {
        "colab": {
          "base_uri": "https://localhost:8080/"
        },
        "id": "-PIeCtB6sdtE",
        "outputId": "80d7782c-290a-45de-9fb8-5694374b962c"
      },
      "execution_count": 56,
      "outputs": [
        {
          "output_type": "execute_result",
          "data": {
            "text/plain": [
              "<tf.Tensor: shape=(50,), dtype=float32, numpy=\n",
              "array([0.5877372 , 0.4624158 , 0.9785259 , 0.07478976, 0.8760371 ,\n",
              "       0.77205265, 0.3573084 , 0.90385723, 0.5055258 , 0.42717922,\n",
              "       0.637331  , 0.158144  , 0.78713596, 0.8428781 , 0.30233443,\n",
              "       0.9859817 , 0.7895652 , 0.31250715, 0.20265949, 0.43143153,\n",
              "       0.52685726, 0.50693655, 0.04036963, 0.38694727, 0.21692872,\n",
              "       0.36567688, 0.49148762, 0.32402945, 0.96995926, 0.9001161 ,\n",
              "       0.32840407, 0.7690536 , 0.8258953 , 0.68117046, 0.8404051 ,\n",
              "       0.832677  , 0.18434167, 0.8288015 , 0.0642364 , 0.21103954,\n",
              "       0.16556144, 0.28087544, 0.7040119 , 0.42915404, 0.623458  ,\n",
              "       0.38058603, 0.47649276, 0.35521924, 0.7885771 , 0.73870707],\n",
              "      dtype=float32)>"
            ]
          },
          "metadata": {},
          "execution_count": 56
        }
      ]
    },
    {
      "cell_type": "code",
      "source": [
        "# Again we can perform the above operations\n",
        "print(f'Index of max value = {tf.math.argmax(tensor_6)}') \n",
        "print(f'Value at that index = {tensor_6[tf.math.argmax(tensor_6)]}')\n",
        "print(f'Index of min value = {tf.math.argmin(tensor_6)}') \n",
        "print(f'Value at that index = {tensor_6[tf.math.argmin(tensor_6)]}')"
      ],
      "metadata": {
        "colab": {
          "base_uri": "https://localhost:8080/"
        },
        "id": "RXTnUR5_tzQh",
        "outputId": "e0287d6e-7025-4c41-b86e-244f12bf1e83"
      },
      "execution_count": 59,
      "outputs": [
        {
          "output_type": "stream",
          "name": "stdout",
          "text": [
            "Index of max value = 15\n",
            "Value at that index = 0.9859817028045654\n",
            "Index of min value = 22\n",
            "Value at that index = 0.040369629859924316\n"
          ]
        }
      ]
    }
  ]
}